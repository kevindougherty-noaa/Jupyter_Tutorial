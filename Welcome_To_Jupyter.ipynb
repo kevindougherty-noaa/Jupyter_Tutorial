{
 "cells": [
  {
   "cell_type": "markdown",
   "metadata": {},
   "source": [
    "## Welcome To Jupyter Lab\n",
    "JupyterLab is a web-based user interface that is capable of running Jupyter Notebooks, text editors, terminals, and other custom components. All of the documentation can be found [here](https://jupyterlab.readthedocs.io/en/latest/getting_started/overview.html)."
   ]
  },
  {
   "cell_type": "markdown",
   "metadata": {},
   "source": [
    "### Jupyter Notebook\n",
    "Right now, we are currently in a Jupyter Notebook ([documentation here](https://jupyter-notebook.readthedocs.io/en/stable/notebook.html)). Jupyter Notebook's are an excellent tool for developing, documenting, and executing code, as well as a great resource to commuicate results (like this meeting!).\n",
    "\n",
    "A couple main features for the web application include:\n",
    "* In-browser editing for code, with automatic syntax highlighting, indentation, and tab completion/introspection\n",
    "* The ability to execute code from the browser, with the results of computations attached to the code which generated them.\n",
    "* Displaying the result of computation using media representations, such as HTML, LaTeX, PNG, SVG, etc.\n",
    "* In-browser editing for text using the Markdown language (double click this text to see Markdown!)"
   ]
  },
  {
   "cell_type": "markdown",
   "metadata": {},
   "source": [
    "### Creating a Markdown cell\n",
    "1. Select the cell you would like to work on. (Double click this text for now)\n",
    "2. Hit the `esc` key on your keyboard, so that the blue hightlight around the cell disappears.\n",
    "3. Hit the `a` key on your keyboard if you would like a cell above the current one you are in, or hit the `b` key if you would like a cell below.\n",
    "4. Once the new cell is created, hit the `m` key on your keyboard to create a Markdown type cell. You can also go up to the top of your Notebook to the Toolbar and change `Code` type for the cell to `Markdown`.\n",
    "5. Now your cell should be in Markdown! Type in \"This is a Markdown cell.\" and hit `Shift`+`Enter` to execute the cell. This should produce some nice text within your Notebook.\n",
    "\n",
    "More information on Markdown syntax and how to utilize different features can be found in the documention [here](https://www.markdownguide.org/basic-syntax/)."
   ]
  },
  {
   "cell_type": "markdown",
   "metadata": {},
   "source": [
    "### Let's test some basic code\n",
    "Below, let's run some simple mathematical operations. To execute a cell, you can either press the play button locatated on the Toolbar, or you can press `Shift`+`Enter`."
   ]
  },
  {
   "cell_type": "code",
   "execution_count": null,
   "metadata": {},
   "outputs": [],
   "source": [
    "2+3"
   ]
  },
  {
   "cell_type": "code",
   "execution_count": null,
   "metadata": {},
   "outputs": [],
   "source": [
    "8**2"
   ]
  },
  {
   "cell_type": "markdown",
   "metadata": {},
   "source": [
    "Simple enough! Let's assign some variables. Once a variable is defined in a Notebook, it will remain until it is either redefined or the kernel is reset.\n",
    "\n",
    "The kernel can be reset by cicking the circle arrow on the Toolbar, or by clicking the `Kernel` tab and hitting any of the `Restart Kernel` options."
   ]
  },
  {
   "cell_type": "code",
   "execution_count": null,
   "metadata": {},
   "outputs": [],
   "source": [
    "a = 'Hello'\n",
    "b = 'World!'\n",
    "\n",
    "a + ' ' + b"
   ]
  },
  {
   "cell_type": "code",
   "execution_count": null,
   "metadata": {},
   "outputs": [],
   "source": [
    "string1 = a + ' ' + b"
   ]
  },
  {
   "cell_type": "code",
   "execution_count": null,
   "metadata": {},
   "outputs": [],
   "source": [
    "print(string1)"
   ]
  },
  {
   "cell_type": "code",
   "execution_count": null,
   "metadata": {},
   "outputs": [],
   "source": [
    "c = 'Hi'\n",
    "\n",
    "string2 = c + ' ' + b"
   ]
  },
  {
   "cell_type": "code",
   "execution_count": null,
   "metadata": {},
   "outputs": [],
   "source": [
    "print(string1)\n",
    "print(string2)"
   ]
  },
  {
   "cell_type": "code",
   "execution_count": null,
   "metadata": {},
   "outputs": [],
   "source": [
    "a = 'Goodbye!'\n",
    "print(a)"
   ]
  },
  {
   "cell_type": "code",
   "execution_count": null,
   "metadata": {},
   "outputs": [],
   "source": []
  }
 ],
 "metadata": {
  "kernelspec": {
   "display_name": "Python 3",
   "language": "python",
   "name": "python3"
  },
  "language_info": {
   "codemirror_mode": {
    "name": "ipython",
    "version": 3
   },
   "file_extension": ".py",
   "mimetype": "text/x-python",
   "name": "python",
   "nbconvert_exporter": "python",
   "pygments_lexer": "ipython3",
   "version": "3.7.9"
  }
 },
 "nbformat": 4,
 "nbformat_minor": 4
}
