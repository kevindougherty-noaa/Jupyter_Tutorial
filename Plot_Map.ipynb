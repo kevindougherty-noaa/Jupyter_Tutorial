{
 "cells": [
  {
   "cell_type": "code",
   "execution_count": null,
   "metadata": {},
   "outputs": [],
   "source": [
    "import numpy as np\n",
    "import pandas as pd\n",
    "import matplotlib.pyplot as plt\n",
    "from pyGSI.diags import Radiance\n",
    "\n",
    "file = '/scratch2/NCEPDEV/stmp1/Kevin.Dougherty/ncDiags/gdas.20200922/00/atmos/diag_amsua_metop-a_ges.2020092200.nc4'\n",
    "\n",
    "# Create diag object\n",
    "diag = Radiance(file)\n",
    "\n",
    "# Create dataframe\n",
    "df = diag.get_data(channel=[11], qcflag=[0])\n",
    "\n",
    "latitude = df['latitude'].to_numpy()\n",
    "longitude = df['longitude'].to_numpy()\n",
    "hofx_wo_bc = df['hofx_unadjusted'].to_numpy()\n",
    "obs = df['observation'].to_numpy()\n",
    "omf_w_bc = df['omf_adjusted'].to_numpy()\n"
   ]
  },
  {
   "cell_type": "code",
   "execution_count": null,
   "metadata": {},
   "outputs": [],
   "source": [
    "from emcpy.plots.map_tools import Domain, MapProjection\n",
    "from emcpy.plots.map_plots import MapScatter\n",
    "from emcpy.plots.create_plots import CreateMap\n",
    "\n",
    "# Create scatter plot on global domian\n",
    "mymap = CreateMap(figsize=(12, 8),\n",
    "                  domain=Domain('global'),\n",
    "                  proj_obj=MapProjection('plcarr'))\n",
    "\n",
    "# Add coastlines\n",
    "mymap.add_features(['coastlines'])\n",
    "\n",
    "# Create EMCPy object\n",
    "scatterobj = MapScatter(latitude=latitude,\n",
    "                        longitude=longitude,\n",
    "                        data=omf_w_bc)\n",
    "scatterobj.cmap = 'coolwarm'\n",
    "scatterobj.vmin = -1\n",
    "scatterobj.vmax = 1\n",
    "\n",
    "# Draw data onto map\n",
    "mymap.draw_data([scatterobj])"
   ]
  },
  {
   "cell_type": "code",
   "execution_count": null,
   "metadata": {},
   "outputs": [],
   "source": [
    "# Create scatter plot on global domian\n",
    "mymap = CreateMap(figsize=(12, 8),\n",
    "                  domain=Domain('conus'),\n",
    "                  proj_obj=MapProjection('plcarr'))\n",
    "\n",
    "# Add coastlines\n",
    "mymap.add_features(['coastlines', 'states'])\n",
    "\n",
    "# Create EMCPy object\n",
    "scatterobj = MapScatter(latitude=latitude,\n",
    "                        longitude=longitude,\n",
    "                        data=omf_w_bc)\n",
    "scatterobj.cmap = 'coolwarm'\n",
    "scatterobj.vmin = -1\n",
    "scatterobj.vmax = 1\n",
    "\n",
    "# Draw data onto map\n",
    "mymap.draw_data([scatterobj])"
   ]
  },
  {
   "cell_type": "code",
   "execution_count": null,
   "metadata": {},
   "outputs": [],
   "source": [
    "# Create scatter plot on global domian\n",
    "mymap = CreateMap(figsize=(12, 8),\n",
    "                  domain=Domain('conus'),\n",
    "                  proj_obj=MapProjection('plcarr'))\n",
    "\n",
    "# Add coastlines\n",
    "mymap.add_features(['coastlines', 'states'])\n",
    "\n",
    "# Create EMCPy object\n",
    "scatterobj = MapScatter(latitude=latitude,\n",
    "                        longitude=longitude,\n",
    "                        data=omf_w_bc)\n",
    "scatterobj.cmap = 'BrBG'\n",
    "scatterobj.vmin = -1\n",
    "scatterobj.vmax = 1\n",
    "scatterobj.markersize = 20\n",
    "scatterobj.marker = 's'\n",
    "\n",
    "# Draw data onto map\n",
    "mymap.draw_data([scatterobj])"
   ]
  },
  {
   "cell_type": "code",
   "execution_count": null,
   "metadata": {},
   "outputs": [],
   "source": [
    "# Add plot features\n",
    "mymap.add_colorbar(label='Brightness Temperature (K)',\n",
    "                   label_fontsize=12, extend='both')\n",
    "mymap.add_title(label='AMSUA metop-a OmF',\n",
    "                loc='center', fontsize=16)\n",
    "mymap.add_xlabel(xlabel='Longitude')\n",
    "mymap.add_ylabel(ylabel='Latitude')"
   ]
  },
  {
   "cell_type": "code",
   "execution_count": null,
   "metadata": {},
   "outputs": [],
   "source": [
    "# Return figure and save\n",
    "fig = mymap.return_figure()\n",
    "fig.savefig('./sample_spatial_plot2.png')"
   ]
  },
  {
   "cell_type": "code",
   "execution_count": null,
   "metadata": {},
   "outputs": [],
   "source": []
  }
 ],
 "metadata": {
  "kernelspec": {
   "display_name": "Python 3",
   "language": "python",
   "name": "python3"
  },
  "language_info": {
   "codemirror_mode": {
    "name": "ipython",
    "version": 3
   },
   "file_extension": ".py",
   "mimetype": "text/x-python",
   "name": "python",
   "nbconvert_exporter": "python",
   "pygments_lexer": "ipython3",
   "version": "3.7.9"
  }
 },
 "nbformat": 4,
 "nbformat_minor": 4
}
