{
 "cells": [
  {
   "cell_type": "code",
   "execution_count": null,
   "metadata": {},
   "outputs": [],
   "source": [
    "import numpy as np\n",
    "import pandas as pd\n",
    "import matplotlib.pyplot as plt\n",
    "from netCDF4 import Dataset"
   ]
  },
  {
   "cell_type": "markdown",
   "metadata": {},
   "source": [
    "#### Let's checkout out a diagnostic netCDF4 file"
   ]
  },
  {
   "cell_type": "code",
   "execution_count": null,
   "metadata": {},
   "outputs": [],
   "source": [
    "file = '/scratch2/NCEPDEV/stmp1/Kevin.Dougherty/ncDiags/gdas.20200922/00/atmos/diag_amsua_metop-a_ges.2020092200.nc4'\n",
    "\n",
    "with Dataset(file, mode='r') as f:\n",
    "    print(f)"
   ]
  },
  {
   "cell_type": "markdown",
   "metadata": {},
   "source": [
    "#### Save some variables:"
   ]
  },
  {
   "cell_type": "code",
   "execution_count": null,
   "metadata": {},
   "outputs": [],
   "source": [
    "with Dataset(file, mode='r') as f:\n",
    "    latitude = f.variables['Latitude'][:]\n",
    "    longitude = f.variables['Longitude'][:]\n",
    "    omf_wo_bc = f.variables['Obs_Minus_Forecast_unadjusted'][:]\n",
    "    omf_w_bc = f.variables['Obs_Minus_Forecast_adjusted'][:]"
   ]
  },
  {
   "cell_type": "code",
   "execution_count": null,
   "metadata": {},
   "outputs": [],
   "source": [
    "latitude"
   ]
  },
  {
   "cell_type": "markdown",
   "metadata": {},
   "source": [
    "#### Make a pandas dataframe"
   ]
  },
  {
   "cell_type": "code",
   "execution_count": null,
   "metadata": {},
   "outputs": [],
   "source": [
    "data = {\n",
    "    'latitude': latitude,\n",
    "    'longitude': longitude,\n",
    "    'omf_wo_bc': omf_wo_bc,\n",
    "    'omf_w_bc': omf_w_bc\n",
    "}\n",
    "\n",
    "df = pd.DataFrame(data)\n",
    "df"
   ]
  },
  {
   "cell_type": "markdown",
   "metadata": {},
   "source": [
    "#### Thankfully, PyGSI has the ability to read in all the data into a clean dataframe in two lines:"
   ]
  },
  {
   "cell_type": "code",
   "execution_count": null,
   "metadata": {},
   "outputs": [],
   "source": [
    "from pyGSI.diags import Radiance\n",
    "\n",
    "# Create diag object\n",
    "diag = Radiance(file)\n",
    "\n",
    "# Create dataframe\n",
    "df = diag.get_data()\n",
    "df"
   ]
  },
  {
   "cell_type": "markdown",
   "metadata": {},
   "source": [
    "#### Let's grab data from channel 11 and with qc marks set to 0"
   ]
  },
  {
   "cell_type": "code",
   "execution_count": null,
   "metadata": {},
   "outputs": [],
   "source": [
    "df = diag.get_data(channel=[11], qcflag=[0])\n",
    "df"
   ]
  },
  {
   "cell_type": "markdown",
   "metadata": {},
   "source": [
    "Notice the difference between the two dataframes? PyGSI takes all the hassle out of sorting GSI diagnostics! Let's grab some data and work on some plots. We can list the variables by using the command here:"
   ]
  },
  {
   "cell_type": "code",
   "execution_count": null,
   "metadata": {},
   "outputs": [],
   "source": [
    "df.columns"
   ]
  },
  {
   "cell_type": "code",
   "execution_count": null,
   "metadata": {},
   "outputs": [],
   "source": [
    "latitude = df['latitude'].to_numpy()\n",
    "longitude = df['longitude'].to_numpy()\n",
    "hofx_wo_bc = df['hofx_unadjusted'].to_numpy()\n",
    "obs = df['observation'].to_numpy()\n",
    "omf_w_bc = df['omf_adjusted'].to_numpy()"
   ]
  },
  {
   "cell_type": "markdown",
   "metadata": {},
   "source": [
    "### Plotting with EMCPy\n",
    "Now that we have our data, let's make some plots using EMCPy. We will start by plotting observations vs. H(x) w/out bias correction on a scatter plot. First, let's create the EMCPy Scatter object."
   ]
  },
  {
   "cell_type": "code",
   "execution_count": null,
   "metadata": {},
   "outputs": [],
   "source": [
    "from emcpy.plots.plots import Scatter\n",
    "from emcpy.plots.create_plots import CreatePlot\n",
    "\n",
    "# Create Scatter object\n",
    "sctr = Scatter(obs, hofx_wo_bc)\n",
    "sctr"
   ]
  },
  {
   "cell_type": "markdown",
   "metadata": {},
   "source": [
    "Above, we've made a new EMCPy Scatter object. Let's take a look at what that object looks like:"
   ]
  },
  {
   "cell_type": "code",
   "execution_count": null,
   "metadata": {},
   "outputs": [],
   "source": [
    "sctr.__dict__"
   ]
  },
  {
   "cell_type": "markdown",
   "metadata": {},
   "source": [
    "#### Create a simple scatter plot"
   ]
  },
  {
   "cell_type": "code",
   "execution_count": null,
   "metadata": {},
   "outputs": [],
   "source": [
    "# Create Plot and draw data\n",
    "myplt = CreatePlot()\n",
    "plt_list = [sctr]\n",
    "myplt.draw_data(plt_list)"
   ]
  },
  {
   "cell_type": "markdown",
   "metadata": {},
   "source": [
    "Here we have a very basic scatter plot. But to someone else, they may not know what we are looking at. So let's add some features and customize the plot a bit."
   ]
  },
  {
   "cell_type": "markdown",
   "metadata": {},
   "source": [
    "#### Change some features for the Scatter data"
   ]
  },
  {
   "cell_type": "code",
   "execution_count": null,
   "metadata": {},
   "outputs": [],
   "source": [
    "sctr.color = 'lightblue'\n",
    "sctr.markersize = 2\n",
    "sctr.vmin = 200\n",
    "sctr.vmax = 225\n",
    "# Add linear regression feature in scatter object\n",
    "sctr.add_linear_regression()"
   ]
  },
  {
   "cell_type": "code",
   "execution_count": null,
   "metadata": {},
   "outputs": [],
   "source": [
    "sctr.__dict__"
   ]
  },
  {
   "cell_type": "markdown",
   "metadata": {},
   "source": [
    "#### Add some plot features:"
   ]
  },
  {
   "cell_type": "code",
   "execution_count": null,
   "metadata": {},
   "outputs": [],
   "source": [
    "myplt = CreatePlot()\n",
    "plt_list = [sctr]\n",
    "myplt.draw_data(plt_list)\n",
    "\n",
    "# Add Titles\n",
    "title = 'H(x) vs Observation\\nAMSUA metop-a Channel 10'\n",
    "myplt.add_title(title, fontsize=14, loc='left')\n",
    "myplt.add_title('YYYYMMDDHH', loc='right', fontweight='semibold')\n",
    "\n",
    "# Create x and y labels\n",
    "myplt.add_xlabel(xlabel='Observation')\n",
    "myplt.add_ylabel(ylabel='H(x) no BC')\n",
    "\n",
    "# Add grid\n",
    "myplt.add_grid(linewidth=0.5, color='grey', linestyle='--')\n",
    "\n",
    "# Set x and y limits\n",
    "myplt.set_xlim([sctr.vmin, sctr.vmax])\n",
    "myplt.set_ylim([sctr.vmin, sctr.vmax])\n",
    "\n",
    "# Add a legend\n",
    "myplt.add_legend(loc='upper left')"
   ]
  },
  {
   "cell_type": "markdown",
   "metadata": {},
   "source": [
    "#### Return figure and save"
   ]
  },
  {
   "cell_type": "code",
   "execution_count": null,
   "metadata": {},
   "outputs": [],
   "source": [
    "fig = myplt.return_figure()\n",
    "fig.savefig('./sample_scatter_plot.png')"
   ]
  },
  {
   "cell_type": "markdown",
   "metadata": {},
   "source": [
    "### Plot Spatial Map Plot"
   ]
  },
  {
   "cell_type": "code",
   "execution_count": null,
   "metadata": {},
   "outputs": [],
   "source": [
    "from emcpy.plots.map_tools import Domain, MapProjection\n",
    "from emcpy.plots.map_plots import MapScatter\n",
    "from emcpy.plots.create_plots import CreateMap\n",
    "\n",
    "# Create scatter plot on global domian\n",
    "mymap = CreateMap(figsize=(12, 8),\n",
    "                  domain=Domain('global'),\n",
    "                  proj_obj=MapProjection('plcarr'))\n",
    "# Add coastlines\n",
    "mymap.add_features(['coastlines'])\n",
    "\n",
    "# Create EMCPy object\n",
    "scatterobj = MapScatter(latitude=latitude,\n",
    "                        longitude=longitude,\n",
    "                        data=omf_w_bc)\n",
    "scatterobj.cmap = 'coolwarm'\n",
    "scatterobj.vmin = -1\n",
    "scatterobj.vmax = 1\n",
    "\n",
    "# Draw data onto map\n",
    "mymap.draw_data([scatterobj])\n",
    "\n",
    "# Add plot features\n",
    "mymap.add_colorbar(label='Brightness Temperature (K)',\n",
    "                   label_fontsize=12, extend='both')\n",
    "mymap.add_title(label='AMSUA metop-a OmF',\n",
    "                loc='center', fontsize=16)\n",
    "mymap.add_xlabel(xlabel='Longitude')\n",
    "mymap.add_ylabel(ylabel='Latitude')\n",
    "\n",
    "# Return figure and save\n",
    "fig = myplt.return_figure()\n",
    "fig.savefig('./sample_spatial_plot.png')"
   ]
  },
  {
   "cell_type": "code",
   "execution_count": null,
   "metadata": {},
   "outputs": [],
   "source": []
  }
 ],
 "metadata": {
  "kernelspec": {
   "display_name": "Python 3",
   "language": "python",
   "name": "python3"
  },
  "language_info": {
   "codemirror_mode": {
    "name": "ipython",
    "version": 3
   },
   "file_extension": ".py",
   "mimetype": "text/x-python",
   "name": "python",
   "nbconvert_exporter": "python",
   "pygments_lexer": "ipython3",
   "version": "3.7.9"
  }
 },
 "nbformat": 4,
 "nbformat_minor": 4
}
